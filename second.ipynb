{
 "cells": [
  {
   "cell_type": "code",
   "execution_count": 1,
   "metadata": {},
   "outputs": [],
   "source": [
    "import pandas as pd\n",
    "import numpy as np\n",
    "from sklearn.model_selection import train_test_split\n",
    "from sklearn.preprocessing import StandardScaler\n",
    "from sklearn.metrics import accuracy_score\n",
    "from sklearn.linear_model import LogisticRegression\n",
    "from sklearn.ensemble import RandomForestClassifier\n"
   ]
  },
  {
   "cell_type": "code",
   "execution_count": 2,
   "metadata": {},
   "outputs": [
    {
     "name": "stdout",
     "output_type": "stream",
     "text": [
      "   T1  T2  T3  T4  T5  T6  T7  T8  T9  T10  T11  T12  T13  T14  T15  T16  T17  \\\n",
      "0 -70 -61 -66 -53 -51 -63 -82 -57 -76  -78  -66  -66  -61  -59  -73  -75  -63   \n",
      "1 -77 -74 -71 -76 -65 -63 -66 -52 -55  -75  -72  -75  -74  -61  -64  -63  -53   \n",
      "2 -53 -38 -55 -66 -62 -62 -65 -70 -62  -52  -56  -53  -66  -68  -72  -60  -68   \n",
      "3 -72 -62 -59 -65 -65 -65 -78 -82 -83  -59  -84  -60  -64  -83  -69  -72  -95   \n",
      "4 -67 -69 -65 -63 -59 -53 -70 -72 -71  -60  -61  -57  -54  -76  -61  -66  -71   \n",
      "\n",
      "   T18 target  \n",
      "0  -77    B37  \n",
      "1  -63    B61  \n",
      "2  -77    A19  \n",
      "3  -73    A22  \n",
      "4  -80    A33  \n"
     ]
    }
   ],
   "source": [
    "# Load the data from the Excel file\n",
    "data = pd.read_excel(r\"C:\\Users\\naini\\Downloads\\train.xlsx\")\n",
    "\n",
    "# Display the first few rows of the data\n",
    "print(data.head())\n",
    "\n",
    "# Separate features and target\n",
    "X = data.drop('target', axis=1)\n",
    "y = data['target']\n",
    "\n",
    "# Split the data into training and test sets\n",
    "X_train, X_test, y_train, y_test = train_test_split(X, y, test_size=0.2, random_state=42)\n",
    "\n",
    "# Standardize the data\n",
    "scaler = StandardScaler()\n",
    "X_train_scaled = scaler.fit_transform(X_train)\n",
    "X_test_scaled = scaler.transform(X_test)\n"
   ]
  },
  {
   "cell_type": "code",
   "execution_count": 3,
   "metadata": {},
   "outputs": [
    {
     "name": "stderr",
     "output_type": "stream",
     "text": [
      "c:\\Users\\naini\\AppData\\Local\\Programs\\Python\\Python311\\Lib\\site-packages\\sklearn\\linear_model\\_logistic.py:460: ConvergenceWarning: lbfgs failed to converge (status=1):\n",
      "STOP: TOTAL NO. of ITERATIONS REACHED LIMIT.\n",
      "\n",
      "Increase the number of iterations (max_iter) or scale the data as shown in:\n",
      "    https://scikit-learn.org/stable/modules/preprocessing.html\n",
      "Please also refer to the documentation for alternative solver options:\n",
      "    https://scikit-learn.org/stable/modules/linear_model.html#logistic-regression\n",
      "  n_iter_i = _check_optimize_result(\n"
     ]
    },
    {
     "name": "stdout",
     "output_type": "stream",
     "text": [
      "Logistic Regression Training Accuracy: 0.9773477092615898\n",
      "Random Forest Training Accuracy: 0.9996598755144382\n"
     ]
    }
   ],
   "source": [
    "# Initialize models\n",
    "log_reg = LogisticRegression(random_state=42)\n",
    "rf_clf = RandomForestClassifier(random_state=42)\n",
    "\n",
    "# Train Logistic Regression model\n",
    "log_reg.fit(X_train_scaled, y_train)\n",
    "log_reg_train_accuracy = log_reg.score(X_train_scaled, y_train)\n",
    "print(f'Logistic Regression Training Accuracy: {log_reg_train_accuracy}')\n",
    "\n",
    "# Train Random Forest model\n",
    "rf_clf.fit(X_train_scaled, y_train)\n",
    "rf_clf_train_accuracy = rf_clf.score(X_train_scaled, y_train)\n",
    "print(f'Random Forest Training Accuracy: {rf_clf_train_accuracy}')\n"
   ]
  },
  {
   "cell_type": "code",
   "execution_count": 4,
   "metadata": {},
   "outputs": [
    {
     "name": "stdout",
     "output_type": "stream",
     "text": [
      "Logistic Regression Test Accuracy: 0.9712964222554754\n",
      "Random Forest Test Accuracy: 0.9861243368249217\n"
     ]
    }
   ],
   "source": [
    "# Predict using Logistic Regression\n",
    "log_reg_preds = log_reg.predict(X_test_scaled)\n",
    "log_reg_test_accuracy = accuracy_score(y_test, log_reg_preds)\n",
    "print(f'Logistic Regression Test Accuracy: {log_reg_test_accuracy}')\n",
    "\n",
    "# Predict using Random Forest\n",
    "rf_clf_preds = rf_clf.predict(X_test_scaled)\n",
    "rf_clf_test_accuracy = accuracy_score(y_test, rf_clf_preds)\n",
    "print(f'Random Forest Test Accuracy: {rf_clf_test_accuracy}')\n"
   ]
  },
  {
   "cell_type": "code",
   "execution_count": 5,
   "metadata": {},
   "outputs": [
    {
     "name": "stdout",
     "output_type": "stream",
     "text": [
      "\n",
      "1. Logistic Regression:\n",
      "   - It is a simple and efficient algorithm for binary and multiclass classification.\n",
      "   - It provides probabilistic interpretations of the classification, which can be valuable for understanding model confidence.\n",
      "\n",
      "2. Random Forest:\n",
      "   - It is a powerful and versatile ensemble method capable of handling complex datasets with high dimensionality.\n",
      "   - It provides good generalization performance and is less prone to overfitting due to its averaging mechanism.\n",
      "\n"
     ]
    }
   ],
   "source": [
    "# Save predictions to CSV files\n",
    "pd.DataFrame(log_reg_preds, columns=['target']).to_csv('log_reg_predictions.csv', index=False)\n",
    "pd.DataFrame(rf_clf_preds, columns=['target']).to_csv('rf_clf_predictions.csv', index=False)\n",
    "\n",
    "# Rationale behind choosing the algorithms\n",
    "rationale = \"\"\"\n",
    "1. Logistic Regression:\n",
    "   - It is a simple and efficient algorithm for binary and multiclass classification.\n",
    "   - It provides probabilistic interpretations of the classification, which can be valuable for understanding model confidence.\n",
    "\n",
    "2. Random Forest:\n",
    "   - It is a powerful and versatile ensemble method capable of handling complex datasets with high dimensionality.\n",
    "   - It provides good generalization performance and is less prone to overfitting due to its averaging mechanism.\n",
    "\"\"\"\n",
    "\n",
    "print(rationale)\n"
   ]
  }
 ],
 "metadata": {
  "kernelspec": {
   "display_name": "Python 3",
   "language": "python",
   "name": "python3"
  },
  "language_info": {
   "codemirror_mode": {
    "name": "ipython",
    "version": 3
   },
   "file_extension": ".py",
   "mimetype": "text/x-python",
   "name": "python",
   "nbconvert_exporter": "python",
   "pygments_lexer": "ipython3",
   "version": "3.11.4"
  }
 },
 "nbformat": 4,
 "nbformat_minor": 2
}
